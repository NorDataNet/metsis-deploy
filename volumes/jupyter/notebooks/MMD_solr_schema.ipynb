{
 "cells": [
  {
   "cell_type": "code",
   "execution_count": null,
   "metadata": {},
   "outputs": [],
   "source": [
    "import json\n",
    "import requests\n",
    "import time"
   ]
  },
  {
   "cell_type": "code",
   "execution_count": null,
   "metadata": {},
   "outputs": [],
   "source": [
    "# the file below is generated from a curl request to the met solr istance\n",
    "#\n",
    "# e.g.: !curl http://host:port/solr/core_name/schema?wt=json\n",
    "#\n",
    "!gist -p nbs-l1.json"
   ]
  },
  {
   "cell_type": "code",
   "execution_count": null,
   "metadata": {},
   "outputs": [],
   "source": [
    "# schemas = !ls | grep json"
   ]
  },
  {
   "cell_type": "code",
   "execution_count": null,
   "metadata": {},
   "outputs": [],
   "source": [
    "schemas = ['nbs-l1.json', 'nbs-l2.json', 'nbs-thumbnail.json']"
   ]
  },
  {
   "cell_type": "code",
   "execution_count": null,
   "metadata": {},
   "outputs": [],
   "source": [
    "#with open('../dev/dataset-search-services/schema.json') as json_file:\n",
    "#    data = json.load(json_file)"
   ]
  },
  {
   "cell_type": "code",
   "execution_count": null,
   "metadata": {},
   "outputs": [],
   "source": [
    "# constants"
   ]
  },
  {
   "cell_type": "code",
   "execution_count": null,
   "metadata": {},
   "outputs": [],
   "source": [
    "core_names = [i.split('.')[0] for i in schemas]\n",
    "core_names\n",
    "#endopint = 'http://localhost:8983/solr/mmd/schema'"
   ]
  },
  {
   "cell_type": "code",
   "execution_count": null,
   "metadata": {},
   "outputs": [],
   "source": [
    "headers = {\n",
    "    'Content-type': 'application/json',\n",
    "}"
   ]
  },
  {
   "cell_type": "code",
   "execution_count": null,
   "metadata": {
    "scrolled": false
   },
   "outputs": [],
   "source": [
    "for i in schemas:\n",
    "    corename = i.split('.')[0]\n",
    "    endpoint = f'http://solr:8983/solr/{corename}/schema'\n",
    "    print('#### ', i, ' ####')\n",
    "    with open(i) as json_file:\n",
    "        data = json.load(json_file)\n",
    "        print('---- ', 'fieldTypes', ' ----')\n",
    "        for i in data['schema']['fieldTypes']:\n",
    "            field_type = {}\n",
    "            field_type['add-field-type'] = i\n",
    "            result = {'headers': headers, 'data': json.dumps(field_type)}\n",
    "            response = requests.post(endpoint, \n",
    "                                     headers=result['headers'], \n",
    "                                     data=result['data'])\n",
    "            print(i['name'], 'status:', response)\n",
    "            time.sleep(0.2)\n",
    "        print('---- ', 'fields', ' ----')\n",
    "        for i in data['schema']['fields']:\n",
    "            field = {}\n",
    "            field['add-field'] = i\n",
    "            result = {'headers': headers, 'data': json.dumps(field)}\n",
    "            response = requests.post(endpoint, \n",
    "                                     headers=result['headers'], \n",
    "                                     data=result['data'])\n",
    "            print(i['name'], 'status:', response)\n",
    "            time.sleep(0.2)\n",
    "        print('---- ', 'dynamicFields', ' ----')\n",
    "        for i in data['schema']['dynamicFields']:\n",
    "            dynamic_field = {}\n",
    "            dynamic_field['add-dynamic-field'] = i\n",
    "            result = {'headers': headers, 'data': json.dumps(dynamic_field)}\n",
    "            response = requests.post(endpoint, \n",
    "                                     headers=result['headers'], \n",
    "                                     data=result['data'])\n",
    "            print(i['name'], 'status:', response)\n",
    "            time.sleep(0.2)\n",
    "        print('---- ', 'copyFields', ' ----')\n",
    "        for i in data['schema']['copyFields']:\n",
    "            copy_field = {}\n",
    "            copy_field['add-copy-field'] = i\n",
    "            result = {'headers': headers, 'data': json.dumps(copy_field)}\n",
    "            response = requests.post(endpoint, \n",
    "                                     headers=result['headers'], \n",
    "                                     data=result['data'])\n",
    "            print(i['source'], 'status:', response)\n",
    "            time.sleep(0.2)"
   ]
  },
  {
   "cell_type": "code",
   "execution_count": null,
   "metadata": {},
   "outputs": [],
   "source": [
    "for i in data['schema']['fieldTypes']:\n",
    "    if i['name'] == 'currency':\n",
    "        print(i)"
   ]
  },
  {
   "cell_type": "markdown",
   "metadata": {},
   "source": [
    "# Add new Field Types"
   ]
  },
  {
   "cell_type": "code",
   "execution_count": null,
   "metadata": {},
   "outputs": [],
   "source": [
    "\n",
    "for i in data['schema']['fieldTypes']:\n",
    "    field_type = {}\n",
    "    field_type['add-field-type'] = i\n",
    "    result = {'headers': headers, 'data': json.dumps(field_type)}\n",
    "    response = requests.post(endopint, \n",
    "                         headers=result['headers'], \n",
    "                         data=result['data'])\n",
    "    print(i['name'], 'status:', response)\n",
    "    time.sleep(0.2)\n",
    "\n"
   ]
  },
  {
   "cell_type": "markdown",
   "metadata": {},
   "source": [
    "# Add new Fields"
   ]
  },
  {
   "cell_type": "code",
   "execution_count": null,
   "metadata": {},
   "outputs": [],
   "source": [
    "for i in data['schema']['fields']:\n",
    "    field = {}\n",
    "    field['add-field'] = i\n",
    "    result = {'headers': headers, 'data': json.dumps(field)}\n",
    "    response = requests.post(endopint, \n",
    "                         headers=result['headers'], \n",
    "                         data=result['data'])\n",
    "    print(i['name'], 'status:', response)\n",
    "    time.sleep(0.2)"
   ]
  },
  {
   "cell_type": "markdown",
   "metadata": {},
   "source": [
    "# Add new dynamicFields"
   ]
  },
  {
   "cell_type": "code",
   "execution_count": null,
   "metadata": {},
   "outputs": [],
   "source": [
    "for i in data['schema']['dynamicFields']:\n",
    "    dynamic_field = {}\n",
    "    dynamic_field['add-dynamic-field'] = i\n",
    "    result = {'headers': headers, 'data': json.dumps(dynamic_field)}\n",
    "    response = requests.post(endopint, \n",
    "                         headers=result['headers'], \n",
    "                         data=result['data'])\n",
    "    print(i['name'], 'status:', response)\n",
    "    time.sleep(0.2)"
   ]
  },
  {
   "cell_type": "markdown",
   "metadata": {},
   "source": [
    "# Add New Copy Field Rule"
   ]
  },
  {
   "cell_type": "code",
   "execution_count": null,
   "metadata": {},
   "outputs": [],
   "source": [
    "for i in data['schema']['copyFields']:\n",
    "    copy_field = {}\n",
    "    copy_field['add-copy-field'] = i\n",
    "    result = {'headers': headers, 'data': json.dumps(copy_field)}\n",
    "    response = requests.post(endopint, \n",
    "                         headers=result['headers'], \n",
    "                         data=result['data'])\n",
    "    print(i['source'], 'status:', response)\n",
    "    time.sleep(0.2)"
   ]
  },
  {
   "cell_type": "code",
   "execution_count": null,
   "metadata": {},
   "outputs": [],
   "source": [
    "!curl http://localhost:8983/solr/mycore/schema?wt=json"
   ]
  },
  {
   "cell_type": "code",
   "execution_count": 4,
   "metadata": {},
   "outputs": [
    {
     "name": "stdout",
     "output_type": "stream",
     "text": [
      "https://gist.github.com/5d6394055a4028e6b3c2b76314b61b52\r\n"
     ]
    }
   ],
   "source": [
    "!gist MMD_solr_schema.ipynb"
   ]
  },
  {
   "cell_type": "code",
   "execution_count": null,
   "metadata": {},
   "outputs": [],
   "source": [
    "# !curl http://solrendpoint/solr/nbs-thumbnail/schema?wt=json >> nbs-thumbnail.json"
   ]
  },
  {
   "cell_type": "code",
   "execution_count": null,
   "metadata": {},
   "outputs": [],
   "source": []
  }
 ],
 "metadata": {
  "hide_input": false,
  "kernelspec": {
   "display_name": "Python 3",
   "language": "python",
   "name": "python3"
  },
  "language_info": {
   "codemirror_mode": {
    "name": "ipython",
    "version": 3
   },
   "file_extension": ".py",
   "mimetype": "text/x-python",
   "name": "python",
   "nbconvert_exporter": "python",
   "pygments_lexer": "ipython3",
   "version": "3.7.5"
  }
 },
 "nbformat": 4,
 "nbformat_minor": 4
}
