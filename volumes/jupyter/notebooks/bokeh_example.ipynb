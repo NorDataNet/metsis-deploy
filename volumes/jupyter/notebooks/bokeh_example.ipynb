{
 "cells": [
  {
   "cell_type": "code",
   "execution_count": null,
   "metadata": {},
   "outputs": [],
   "source": [
    "from bokeh.plotting import figure\n",
    "from bokeh.resources import CDN\n",
    "from bokeh.embed import file_html\n",
    "\n",
    "plot = figure()\n",
    "plot.circle([1,2,3], [3,4,5])\n",
    "\n",
    "html = file_html(plot, CDN, \"my plot\")"
   ]
  },
  {
   "cell_type": "code",
   "execution_count": null,
   "metadata": {},
   "outputs": [],
   "source": [
    "with open('html/plot.html', 'w') as f:\n",
    "    f.write(html)"
   ]
  },
  {
   "cell_type": "code",
   "execution_count": null,
   "metadata": {
    "scrolled": false
   },
   "outputs": [],
   "source": [
    "# scatter.py\n",
    "\n",
    "from bokeh.plotting import figure\n",
    "from bokeh.models import Range1d\n",
    "from bokeh.embed import components\n",
    "\n",
    "# create some data\n",
    "x1 = [0, 1, 2, 3, 4, 5, 6, 7, 8, 9, 10]\n",
    "y1 = [0, 8, 2, 4, 6, 9, 5, 6, 25, 28, 4, 7]\n",
    "x2 = [2, 5, 7, 15, 18, 19, 25, 28, 9, 10, 4]\n",
    "y2 = [2, 4, 6, 9, 15, 18, 0, 8, 2, 25, 28]\n",
    "x3 = [0, 1, 0, 8, 2, 4, 6, 9, 7, 8, 9]\n",
    "y3 = [0, 8, 4, 6, 9, 15, 18, 19, 19, 25, 28]\n",
    "\n",
    "# select the tools we want\n",
    "TOOLS=\"pan,wheel_zoom,box_zoom,reset,save\"\n",
    "\n",
    "# the red and blue graphs will share this data range\n",
    "xr1 = Range1d(start=0, end=30)\n",
    "yr1 = Range1d(start=0, end=30)\n",
    "\n",
    "# only the green will use this data range\n",
    "xr2 = Range1d(start=0, end=30)\n",
    "yr2 = Range1d(start=0, end=30)\n",
    "\n",
    "# build our figures\n",
    "p1 = figure(x_range=xr1, y_range=yr1, tools=TOOLS, plot_width=300, plot_height=300)\n",
    "p1.scatter(x1, y1, size=12, color=\"red\", alpha=0.5)\n",
    "\n",
    "p2 = figure(x_range=xr1, y_range=yr1, tools=TOOLS, plot_width=300, plot_height=300)\n",
    "p2.scatter(x2, y2, size=12, color=\"blue\", alpha=0.5)\n",
    "\n",
    "p3 = figure(x_range=xr2, y_range=yr2, tools=TOOLS, plot_width=300, plot_height=300)\n",
    "p3.scatter(x3, y3, size=12, color=\"green\", alpha=0.5)\n",
    "\n",
    "# plots can be a single Bokeh Model, a list/tuple, or even a dictionary\n",
    "plots = {'Red': p1, 'Blue': p2, 'Green': p3}\n",
    "\n",
    "script, div = components(plots)"
   ]
  },
  {
   "cell_type": "code",
   "execution_count": null,
   "metadata": {
    "scrolled": true
   },
   "outputs": [],
   "source": [
    "from jinja2 import Template\n",
    "t = Template(\"\"\"<!DOCTYPE html>\n",
    "             <html lang=\"en\">\n",
    "    <head>\n",
    "        <meta charset=\"utf-8\">\n",
    "        <title>Bokeh Scatter Plots</title>\n",
    "\n",
    "        <link rel=\"stylesheet\" href=\"https://cdn.bokeh.org/bokeh/release/bokeh-1.3.4.min.css\" type=\"text/css\" />\n",
    "        <script type=\"text/javascript\" src=\"https://cdn.bokeh.org/bokeh/release/bokeh-1.3.4.min.js\"></script>\n",
    "\n",
    "        {{ script }}\n",
    "\n",
    "    </head>\n",
    "    <body>\n",
    "        {{ div }}\n",
    "    </body>\n",
    "</html>\"\"\")\n"
   ]
  },
  {
   "cell_type": "code",
   "execution_count": null,
   "metadata": {},
   "outputs": [],
   "source": [
    "with open('html/plot.html', 'w') as f:\n",
    "    f.write(t.render(script=script, div=div))"
   ]
  },
  {
   "cell_type": "code",
   "execution_count": null,
   "metadata": {
    "scrolled": false
   },
   "outputs": [],
   "source": [
    "!cat html/plot.html"
   ]
  },
  {
   "cell_type": "code",
   "execution_count": null,
   "metadata": {},
   "outputs": [],
   "source": []
  }
 ],
 "metadata": {
  "hide_input": false,
  "kernelspec": {
   "display_name": "Python 3",
   "language": "python",
   "name": "python3"
  },
  "language_info": {
   "codemirror_mode": {
    "name": "ipython",
    "version": 3
   },
   "file_extension": ".py",
   "mimetype": "text/x-python",
   "name": "python",
   "nbconvert_exporter": "python",
   "pygments_lexer": "ipython3",
   "version": "3.7.5"
  }
 },
 "nbformat": 4,
 "nbformat_minor": 4
}
