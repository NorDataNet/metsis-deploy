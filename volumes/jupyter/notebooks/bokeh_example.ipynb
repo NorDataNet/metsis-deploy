{
 "cells": [
  {
   "cell_type": "code",
   "execution_count": 11,
   "metadata": {},
   "outputs": [],
   "source": [
    "from bokeh.plotting import figure\n",
    "from bokeh.resources import CDN\n",
    "from bokeh.embed import file_html\n",
    "\n",
    "plot = figure()\n",
    "plot.circle([1,2,3], [3,4,5])\n",
    "\n",
    "html = file_html(plot, CDN, \"my plot\")"
   ]
  },
  {
   "cell_type": "code",
   "execution_count": 12,
   "metadata": {},
   "outputs": [],
   "source": [
    "with open('html/plot.html', 'w') as f:\n",
    "    f.write(html)"
   ]
  },
  {
   "cell_type": "code",
   "execution_count": 53,
   "metadata": {
    "scrolled": false
   },
   "outputs": [
    {
     "name": "stderr",
     "output_type": "stream",
     "text": [
      "BokehUserWarning: ColumnDataSource's columns must be of the same length. Current lengths: ('x', 11), ('y', 12)\n"
     ]
    }
   ],
   "source": [
    "# scatter.py\n",
    "\n",
    "from bokeh.plotting import figure\n",
    "from bokeh.models import Range1d\n",
    "from bokeh.embed import components\n",
    "\n",
    "# create some data\n",
    "x1 = [0, 1, 2, 3, 4, 5, 6, 7, 8, 9, 10]\n",
    "y1 = [0, 8, 2, 4, 6, 9, 5, 6, 25, 28, 4, 7]\n",
    "x2 = [2, 5, 7, 15, 18, 19, 25, 28, 9, 10, 4]\n",
    "y2 = [2, 4, 6, 9, 15, 18, 0, 8, 2, 25, 28]\n",
    "x3 = [0, 1, 0, 8, 2, 4, 6, 9, 7, 8, 9]\n",
    "y3 = [0, 8, 4, 6, 9, 15, 18, 19, 19, 25, 28]\n",
    "\n",
    "# select the tools we want\n",
    "TOOLS=\"pan,wheel_zoom,box_zoom,reset,save\"\n",
    "\n",
    "# the red and blue graphs will share this data range\n",
    "xr1 = Range1d(start=0, end=30)\n",
    "yr1 = Range1d(start=0, end=30)\n",
    "\n",
    "# only the green will use this data range\n",
    "xr2 = Range1d(start=0, end=30)\n",
    "yr2 = Range1d(start=0, end=30)\n",
    "\n",
    "# build our figures\n",
    "p1 = figure(x_range=xr1, y_range=yr1, tools=TOOLS, plot_width=300, plot_height=300)\n",
    "p1.scatter(x1, y1, size=12, color=\"red\", alpha=0.5)\n",
    "\n",
    "p2 = figure(x_range=xr1, y_range=yr1, tools=TOOLS, plot_width=300, plot_height=300)\n",
    "p2.scatter(x2, y2, size=12, color=\"blue\", alpha=0.5)\n",
    "\n",
    "p3 = figure(x_range=xr2, y_range=yr2, tools=TOOLS, plot_width=300, plot_height=300)\n",
    "p3.scatter(x3, y3, size=12, color=\"green\", alpha=0.5)\n",
    "\n",
    "# plots can be a single Bokeh Model, a list/tuple, or even a dictionary\n",
    "plots = {'Red': p1, 'Blue': p2, 'Green': p3}\n",
    "\n",
    "script, div = components(plots)"
   ]
  },
  {
   "cell_type": "code",
   "execution_count": 54,
   "metadata": {
    "scrolled": true
   },
   "outputs": [],
   "source": [
    "from jinja2 import Template\n",
    "t = Template(\"\"\"<!DOCTYPE html>\n",
    "             <html lang=\"en\">\n",
    "    <head>\n",
    "        <meta charset=\"utf-8\">\n",
    "        <title>Bokeh Scatter Plots</title>\n",
    "\n",
    "        <link rel=\"stylesheet\" href=\"https://cdn.bokeh.org/bokeh/release/bokeh-1.3.4.min.css\" type=\"text/css\" />\n",
    "        <script type=\"text/javascript\" src=\"https://cdn.bokeh.org/bokeh/release/bokeh-1.3.4.min.js\"></script>\n",
    "\n",
    "        {{ script }}\n",
    "\n",
    "    </head>\n",
    "    <body>\n",
    "        {{ div }}\n",
    "    </body>\n",
    "</html>\"\"\")\n"
   ]
  },
  {
   "cell_type": "code",
   "execution_count": 55,
   "metadata": {},
   "outputs": [],
   "source": [
    "with open('html/plot.html', 'w') as f:\n",
    "    f.write(t.render(script=script, div=div))"
   ]
  },
  {
   "cell_type": "code",
   "execution_count": 49,
   "metadata": {
    "collapsed": true
   },
   "outputs": [
    {
     "name": "stdout",
     "output_type": "stream",
     "text": [
      "<!DOCTYPE html>\r\n",
      "             <html lang=\"en\">\r\n",
      "    <head>\r\n",
      "        <meta charset=\"utf-8\">\r\n",
      "        <title>Bokeh Scatter Plots</title>\r\n",
      "\r\n",
      "        <link rel=\"stylesheet\" href=\"https://cdn.bokeh.org/bokeh/release/bokeh-1.3.4.min.css\" type=\"text/css\" />\r\n",
      "        <script type=\"text/javascript\" src=\"https://cdn.bokeh.org/bokeh/release/bokeh-1.3.4.min.js\"></script>\r\n",
      "\r\n",
      "        \r\n",
      "<script type=\"text/javascript\">\r\n",
      "  (function() {\r\n",
      "    var fn = function() {\r\n",
      "      Bokeh.safely(function() {\r\n",
      "        (function(root) {\r\n",
      "          function embed_document(root) {\r\n",
      "            \r\n",
      "          var docs_json = '{\"e9e7a7b8-c8f1-4ad1-a01a-b7c9af86337d\":{\"roots\":{\"references\":[{\"attributes\":{\"formatter\":{\"id\":\"4311\",\"type\":\"BasicTickFormatter\"},\"ticker\":{\"id\":\"4231\",\"type\":\"BasicTicker\"}},\"id\":\"4230\",\"type\":\"LinearAxis\"},{\"attributes\":{},\"id\":\"4274\",\"type\":\"WheelZoomTool\"},{\"attributes\":{\"overlay\":{\"id\":\"4342\",\"type\":\"BoxAnnotation\"}},\"id\":\"4275\",\"type\":\"BoxZoomTool\"},{\"attributes\":{\"overlay\":{\"id\":\"4297\",\"type\":\"BoxAnnotation\"}},\"id\":\"4209\",\"type\":\"BoxZoomTool\"},{\"attributes\":{},\"id\":\"4276\",\"type\":\"ResetTool\"},{\"attributes\":{},\"id\":\"4277\",\"type\":\"SaveTool\"},{\"attributes\":{\"callback\":null,\"data\":{\"x\":[2,5,7,15,18,19,25,28,9,10,4],\"y\":[2,4,6,9,15,18,0,8,2,25,28]},\"selected\":{\"id\":\"4314\",\"type\":\"Selection\"},\"selection_policy\":{\"id\":\"4313\",\"type\":\"UnionRenderers\"}},\"id\":\"4251\",\"type\":\"ColumnDataSource\"},{\"attributes\":{},\"id\":\"4207\",\"type\":\"PanTool\"},{\"attributes\":{\"source\":{\"id\":\"4284\",\"type\":\"ColumnDataSource\"}},\"id\":\"4288\",\"type\":\"CDSView\"},{\"attributes\":{},\"id\":\"4273\",\"type\":\"PanTool\"},{\"attributes\":{},\"id\":\"4208\",\"type\":\"WheelZoomTool\"},{\"attributes\":{\"text\":\"\"},\"id\":\"4307\",\"type\":\"Title\"},{\"attributes\":{},\"id\":\"4338\",\"type\":\"BasicTickFormatter\"},{\"attributes\":{\"text\":\"\"},\"id\":\"4334\",\"type\":\"Title\"},{\"attributes\":{\"below\":[{\"id\":\"4263\",\"type\":\"LinearAxis\"}],\"center\":[{\"id\":\"4267\",\"type\":\"Grid\"},{\"id\":\"4272\",\"type\":\"Grid\"}],\"left\":[{\"id\":\"4268\",\"type\":\"LinearAxis\"}],\"plot_height\":300,\"plot_width\":300,\"renderers\":[{\"id\":\"4287\",\"type\":\"GlyphRenderer\"}],\"title\":{\"id\":\"4334\",\"type\":\"Title\"},\"toolbar\":{\"id\":\"4278\",\"type\":\"Toolbar\"},\"x_range\":{\"id\":\"4188\",\"type\":\"Range1d\"},\"x_scale\":{\"id\":\"4259\",\"type\":\"LinearScale\"},\"y_range\":{\"id\":\"4189\",\"type\":\"Range1d\"},\"y_scale\":{\"id\":\"4261\",\"type\":\"LinearScale\"}},\"id\":\"4256\",\"subtype\":\"Figure\",\"type\":\"Plot\"},{\"attributes\":{\"text\":\"\"},\"id\":\"4289\",\"type\":\"Title\"},{\"attributes\":{},\"id\":\"4226\",\"type\":\"LinearScale\"},{\"attributes\":{},\"id\":\"4293\",\"type\":\"BasicTickFormatter\"},{\"attributes\":{},\"id\":\"4295\",\"type\":\"UnionRenderers\"},{\"attributes\":{\"formatter\":{\"id\":\"4338\",\"type\":\"BasicTickFormatter\"},\"ticker\":{\"id\":\"4264\",\"type\":\"BasicTicker\"}},\"id\":\"4263\",\"type\":\"LinearAxis\"},{\"attributes\":{},\"id\":\"4291\",\"type\":\"BasicTickFormatter\"},{\"attributes\":{},\"id\":\"4211\",\"type\":\"SaveTool\"},{\"attributes\":{},\"id\":\"4228\",\"type\":\"LinearScale\"},{\"attributes\":{\"ticker\":{\"id\":\"4231\",\"type\":\"BasicTicker\"}},\"id\":\"4234\",\"type\":\"Grid\"},{\"attributes\":{\"active_drag\":\"auto\",\"active_inspect\":\"auto\",\"active_multi\":null,\"active_scroll\":\"auto\",\"active_tap\":\"auto\",\"tools\":[{\"id\":\"4207\",\"type\":\"PanTool\"},{\"id\":\"4208\",\"type\":\"WheelZoomTool\"},{\"id\":\"4209\",\"type\":\"BoxZoomTool\"},{\"id\":\"4210\",\"type\":\"ResetTool\"},{\"id\":\"4211\",\"type\":\"SaveTool\"}]},\"id\":\"4212\",\"type\":\"Toolbar\"},{\"attributes\":{\"callback\":null,\"end\":30},\"id\":\"4187\",\"type\":\"Range1d\"},{\"attributes\":{},\"id\":\"4296\",\"type\":\"Selection\"},{\"attributes\":{\"active_drag\":\"auto\",\"active_inspect\":\"auto\",\"active_multi\":null,\"active_scroll\":\"auto\",\"active_tap\":\"auto\",\"tools\":[{\"id\":\"4240\",\"type\":\"PanTool\"},{\"id\":\"4241\",\"type\":\"WheelZoomTool\"},{\"id\":\"4242\",\"type\":\"BoxZoomTool\"},{\"id\":\"4243\",\"type\":\"ResetTool\"},{\"id\":\"4244\",\"type\":\"SaveTool\"}]},\"id\":\"4245\",\"type\":\"Toolbar\"},{\"attributes\":{\"callback\":null,\"end\":30},\"id\":\"4186\",\"type\":\"Range1d\"},{\"attributes\":{\"source\":{\"id\":\"4251\",\"type\":\"ColumnDataSource\"}},\"id\":\"4255\",\"type\":\"CDSView\"},{\"attributes\":{\"bottom_units\":\"screen\",\"fill_alpha\":{\"value\":0.5},\"fill_color\":{\"value\":\"lightgrey\"},\"left_units\":\"screen\",\"level\":\"overlay\",\"line_alpha\":{\"value\":1.0},\"line_color\":{\"value\":\"black\"},\"line_dash\":[4,4],\"line_width\":{\"value\":2},\"render_mode\":\"css\",\"right_units\":\"screen\",\"top_units\":\"screen\"},\"id\":\"4297\",\"type\":\"BoxAnnotation\"},{\"attributes\":{\"callback\":null,\"end\":30},\"id\":\"4188\",\"type\":\"Range1d\"},{\"attributes\":{\"callback\":null,\"end\":30},\"id\":\"4189\",\"type\":\"Range1d\"},{\"attributes\":{},\"id\":\"4311\",\"type\":\"BasicTickFormatter\"},{\"attributes\":{},\"id\":\"4244\",\"type\":\"SaveTool\"},{\"attributes\":{},\"id\":\"4313\",\"type\":\"UnionRenderers\"},{\"attributes\":{\"overlay\":{\"id\":\"4315\",\"type\":\"BoxAnnotation\"}},\"id\":\"4242\",\"type\":\"BoxZoomTool\"},{\"attributes\":{\"below\":[{\"id\":\"4197\",\"type\":\"LinearAxis\"}],\"center\":[{\"id\":\"4201\",\"type\":\"Grid\"},{\"id\":\"4206\",\"type\":\"Grid\"}],\"left\":[{\"id\":\"4202\",\"type\":\"LinearAxis\"}],\"plot_height\":300,\"plot_width\":300,\"renderers\":[{\"id\":\"4221\",\"type\":\"GlyphRenderer\"}],\"title\":{\"id\":\"4289\",\"type\":\"Title\"},\"toolbar\":{\"id\":\"4212\",\"type\":\"Toolbar\"},\"x_range\":{\"id\":\"4186\",\"type\":\"Range1d\"},\"x_scale\":{\"id\":\"4193\",\"type\":\"LinearScale\"},\"y_range\":{\"id\":\"4187\",\"type\":\"Range1d\"},\"y_scale\":{\"id\":\"4195\",\"type\":\"LinearScale\"}},\"id\":\"4190\",\"subtype\":\"Figure\",\"type\":\"Plot\"},{\"attributes\":{},\"id\":\"4309\",\"type\":\"BasicTickFormatter\"},{\"attributes\":{\"formatter\":{\"id\":\"4293\",\"type\":\"BasicTickFormatter\"},\"ticker\":{\"id\":\"4198\",\"type\":\"BasicTicker\"}},\"id\":\"4197\",\"type\":\"LinearAxis\"},{\"attributes\":{},\"id\":\"4314\",\"type\":\"Selection\"},{\"attributes\":{},\"id\":\"4195\",\"type\":\"LinearScale\"},{\"attributes\":{},\"id\":\"4241\",\"type\":\"WheelZoomTool\"},{\"attributes\":{\"bottom_units\":\"screen\",\"fill_alpha\":{\"value\":0.5},\"fill_color\":{\"value\":\"lightgrey\"},\"left_units\":\"screen\",\"level\":\"overlay\",\"line_alpha\":{\"value\":1.0},\"line_color\":{\"value\":\"black\"},\"line_dash\":[4,4],\"line_width\":{\"value\":2},\"render_mode\":\"css\",\"right_units\":\"screen\",\"top_units\":\"screen\"},\"id\":\"4315\",\"type\":\"BoxAnnotation\"},{\"attributes\":{},\"id\":\"4193\",\"type\":\"LinearScale\"},{\"attributes\":{\"fill_alpha\":{\"value\":0.5},\"fill_color\":{\"value\":\"blue\"},\"line_alpha\":{\"value\":0.5},\"line_color\":{\"value\":\"blue\"},\"size\":{\"units\":\"screen\",\"value\":12},\"x\":{\"field\":\"x\"},\"y\":{\"field\":\"y\"}},\"id\":\"4252\",\"type\":\"Scatter\"},{\"attributes\":{\"dimension\":1,\"ticker\":{\"id\":\"4236\",\"type\":\"BasicTicker\"}},\"id\":\"4239\",\"type\":\"Grid\"},{\"attributes\":{},\"id\":\"4336\",\"type\":\"BasicTickFormatter\"},{\"attributes\":{},\"id\":\"4269\",\"type\":\"BasicTicker\"},{\"attributes\":{\"data_source\":{\"id\":\"4218\",\"type\":\"ColumnDataSource\"},\"glyph\":{\"id\":\"4219\",\"type\":\"Scatter\"},\"hover_glyph\":null,\"muted_glyph\":null,\"nonselection_glyph\":{\"id\":\"4220\",\"type\":\"Scatter\"},\"selection_glyph\":null,\"view\":{\"id\":\"4222\",\"type\":\"CDSView\"}},\"id\":\"4221\",\"type\":\"GlyphRenderer\"},{\"attributes\":{\"formatter\":{\"id\":\"4336\",\"type\":\"BasicTickFormatter\"},\"ticker\":{\"id\":\"4269\",\"type\":\"BasicTicker\"}},\"id\":\"4268\",\"type\":\"LinearAxis\"},{\"attributes\":{\"fill_alpha\":{\"value\":0.5},\"fill_color\":{\"value\":\"red\"},\"line_alpha\":{\"value\":0.5},\"line_color\":{\"value\":\"red\"},\"size\":{\"units\":\"screen\",\"value\":12},\"x\":{\"field\":\"x\"},\"y\":{\"field\":\"y\"}},\"id\":\"4219\",\"type\":\"Scatter\"},{\"attributes\":{},\"id\":\"4231\",\"type\":\"BasicTicker\"},{\"attributes\":{},\"id\":\"4340\",\"type\":\"UnionRenderers\"},{\"attributes\":{\"fill_alpha\":{\"value\":0.1},\"fill_color\":{\"value\":\"#1f77b4\"},\"line_alpha\":{\"value\":0.1},\"line_color\":{\"value\":\"#1f77b4\"},\"size\":{\"units\":\"screen\",\"value\":12},\"x\":{\"field\":\"x\"},\"y\":{\"field\":\"y\"}},\"id\":\"4253\",\"type\":\"Scatter\"},{\"attributes\":{\"data_source\":{\"id\":\"4251\",\"type\":\"ColumnDataSource\"},\"glyph\":{\"id\":\"4252\",\"type\":\"Scatter\"},\"hover_glyph\":null,\"muted_glyph\":null,\"nonselection_glyph\":{\"id\":\"4253\",\"type\":\"Scatter\"},\"selection_glyph\":null,\"view\":{\"id\":\"4255\",\"type\":\"CDSView\"}},\"id\":\"4254\",\"type\":\"GlyphRenderer\"},{\"attributes\":{\"formatter\":{\"id\":\"4309\",\"type\":\"BasicTickFormatter\"},\"ticker\":{\"id\":\"4236\",\"type\":\"BasicTicker\"}},\"id\":\"4235\",\"type\":\"LinearAxis\"},{\"attributes\":{},\"id\":\"4341\",\"type\":\"Selection\"},{\"attributes\":{},\"id\":\"4236\",\"type\":\"BasicTicker\"},{\"attributes\":{},\"id\":\"4261\",\"type\":\"LinearScale\"},{\"attributes\":{},\"id\":\"4198\",\"type\":\"BasicTicker\"},{\"attributes\":{\"dimension\":1,\"ticker\":{\"id\":\"4203\",\"type\":\"BasicTicker\"}},\"id\":\"4206\",\"type\":\"Grid\"},{\"attributes\":{\"bottom_units\":\"screen\",\"fill_alpha\":{\"value\":0.5},\"fill_color\":{\"value\":\"lightgrey\"},\"left_units\":\"screen\",\"level\":\"overlay\",\"line_alpha\":{\"value\":1.0},\"line_color\":{\"value\":\"black\"},\"line_dash\":[4,4],\"line_width\":{\"value\":2},\"render_mode\":\"css\",\"right_units\":\"screen\",\"top_units\":\"screen\"},\"id\":\"4342\",\"type\":\"BoxAnnotation\"},{\"attributes\":{\"below\":[{\"id\":\"4230\",\"type\":\"LinearAxis\"}],\"center\":[{\"id\":\"4234\",\"type\":\"Grid\"},{\"id\":\"4239\",\"type\":\"Grid\"}],\"left\":[{\"id\":\"4235\",\"type\":\"LinearAxis\"}],\"plot_height\":300,\"plot_width\":300,\"renderers\":[{\"id\":\"4254\",\"type\":\"GlyphRenderer\"}],\"title\":{\"id\":\"4307\",\"type\":\"Title\"},\"toolbar\":{\"id\":\"4245\",\"type\":\"Toolbar\"},\"x_range\":{\"id\":\"4186\",\"type\":\"Range1d\"},\"x_scale\":{\"id\":\"4226\",\"type\":\"LinearScale\"},\"y_range\":{\"id\":\"4187\",\"type\":\"Range1d\"},\"y_scale\":{\"id\":\"4228\",\"type\":\"LinearScale\"}},\"id\":\"4223\",\"subtype\":\"Figure\",\"type\":\"Plot\"},{\"attributes\":{\"fill_alpha\":{\"value\":0.5},\"fill_color\":{\"value\":\"green\"},\"line_alpha\":{\"value\":0.5},\"line_color\":{\"value\":\"green\"},\"size\":{\"units\":\"screen\",\"value\":12},\"x\":{\"field\":\"x\"},\"y\":{\"field\":\"y\"}},\"id\":\"4285\",\"type\":\"Scatter\"},{\"attributes\":{\"fill_alpha\":{\"value\":0.1},\"fill_color\":{\"value\":\"#1f77b4\"},\"line_alpha\":{\"value\":0.1},\"line_color\":{\"value\":\"#1f77b4\"},\"size\":{\"units\":\"screen\",\"value\":12},\"x\":{\"field\":\"x\"},\"y\":{\"field\":\"y\"}},\"id\":\"4220\",\"type\":\"Scatter\"},{\"attributes\":{},\"id\":\"4259\",\"type\":\"LinearScale\"},{\"attributes\":{\"dimension\":1,\"ticker\":{\"id\":\"4269\",\"type\":\"BasicTicker\"}},\"id\":\"4272\",\"type\":\"Grid\"},{\"attributes\":{\"ticker\":{\"id\":\"4198\",\"type\":\"BasicTicker\"}},\"id\":\"4201\",\"type\":\"Grid\"},{\"attributes\":{},\"id\":\"4240\",\"type\":\"PanTool\"},{\"attributes\":{},\"id\":\"4243\",\"type\":\"ResetTool\"},{\"attributes\":{\"ticker\":{\"id\":\"4264\",\"type\":\"BasicTicker\"}},\"id\":\"4267\",\"type\":\"Grid\"},{\"attributes\":{\"callback\":null,\"data\":{\"x\":[0,1,2,3,4,5,6,7,8,9,10],\"y\":[0,8,2,4,6,9,5,6,25,28,4,7]},\"selected\":{\"id\":\"4296\",\"type\":\"Selection\"},\"selection_policy\":{\"id\":\"4295\",\"type\":\"UnionRenderers\"}},\"id\":\"4218\",\"type\":\"ColumnDataSource\"},{\"attributes\":{\"data_source\":{\"id\":\"4284\",\"type\":\"ColumnDataSource\"},\"glyph\":{\"id\":\"4285\",\"type\":\"Scatter\"},\"hover_glyph\":null,\"muted_glyph\":null,\"nonselection_glyph\":{\"id\":\"4286\",\"type\":\"Scatter\"},\"selection_glyph\":null,\"view\":{\"id\":\"4288\",\"type\":\"CDSView\"}},\"id\":\"4287\",\"type\":\"GlyphRenderer\"},{\"attributes\":{},\"id\":\"4210\",\"type\":\"ResetTool\"},{\"attributes\":{\"fill_alpha\":{\"value\":0.1},\"fill_color\":{\"value\":\"#1f77b4\"},\"line_alpha\":{\"value\":0.1},\"line_color\":{\"value\":\"#1f77b4\"},\"size\":{\"units\":\"screen\",\"value\":12},\"x\":{\"field\":\"x\"},\"y\":{\"field\":\"y\"}},\"id\":\"4286\",\"type\":\"Scatter\"},{\"attributes\":{\"formatter\":{\"id\":\"4291\",\"type\":\"BasicTickFormatter\"},\"ticker\":{\"id\":\"4203\",\"type\":\"BasicTicker\"}},\"id\":\"4202\",\"type\":\"LinearAxis\"},{\"attributes\":{\"source\":{\"id\":\"4218\",\"type\":\"ColumnDataSource\"}},\"id\":\"4222\",\"type\":\"CDSView\"},{\"attributes\":{\"active_drag\":\"auto\",\"active_inspect\":\"auto\",\"active_multi\":null,\"active_scroll\":\"auto\",\"active_tap\":\"auto\",\"tools\":[{\"id\":\"4273\",\"type\":\"PanTool\"},{\"id\":\"4274\",\"type\":\"WheelZoomTool\"},{\"id\":\"4275\",\"type\":\"BoxZoomTool\"},{\"id\":\"4276\",\"type\":\"ResetTool\"},{\"id\":\"4277\",\"type\":\"SaveTool\"}]},\"id\":\"4278\",\"type\":\"Toolbar\"},{\"attributes\":{\"callback\":null,\"data\":{\"x\":[0,1,0,8,2,4,6,9,7,8,9],\"y\":[0,8,4,6,9,15,18,19,19,25,28]},\"selected\":{\"id\":\"4341\",\"type\":\"Selection\"},\"selection_policy\":{\"id\":\"4340\",\"type\":\"UnionRenderers\"}},\"id\":\"4284\",\"type\":\"ColumnDataSource\"},{\"attributes\":{},\"id\":\"4203\",\"type\":\"BasicTicker\"},{\"attributes\":{},\"id\":\"4264\",\"type\":\"BasicTicker\"}],\"root_ids\":[\"4190\",\"4223\",\"4256\"]},\"title\":\"Bokeh Application\",\"version\":\"1.3.4\"}}';\r\n",
      "          var render_items = [{\"docid\":\"e9e7a7b8-c8f1-4ad1-a01a-b7c9af86337d\",\"roots\":{\"4190\":\"32b8d856-a80b-4169-b72b-203c9481a21f\",\"4223\":\"3faeb623-3f51-4429-a899-047a4eee73ff\",\"4256\":\"52946200-a572-4ee1-92ec-29f8a4df972f\"}}];\r\n",
      "          root.Bokeh.embed.embed_items(docs_json, render_items);\r\n",
      "        \r\n",
      "          }\r\n",
      "          if (root.Bokeh !== undefined) {\r\n",
      "            embed_document(root);\r\n",
      "          } else {\r\n",
      "            var attempts = 0;\r\n",
      "            var timer = setInterval(function(root) {\r\n",
      "              if (root.Bokeh !== undefined) {\r\n",
      "                embed_document(root);\r\n",
      "                clearInterval(timer);\r\n",
      "              }\r\n",
      "              attempts++;\r\n",
      "              if (attempts > 100) {\r\n",
      "                console.log(\"Bokeh: ERROR: Unable to run BokehJS code because BokehJS library is missing\");\r\n",
      "                clearInterval(timer);\r\n",
      "              }\r\n",
      "            }, 10, root)\r\n",
      "          }\r\n",
      "        })(window);\r\n",
      "      });\r\n",
      "    };\r\n",
      "    if (document.readyState != \"loading\") fn();\r\n",
      "    else document.addEventListener(\"DOMContentLoaded\", fn);\r\n",
      "  })();\r\n",
      "</script>\r\n",
      "\r\n",
      "    </head>\r\n",
      "    <body>\r\n",
      "        {'Red': '\\n<div class=\"bk-root\" id=\"32b8d856-a80b-4169-b72b-203c9481a21f\" data-root-id=\"4190\"></div>', 'Blue': '\\n<div class=\"bk-root\" id=\"3faeb623-3f51-4429-a899-047a4eee73ff\" data-root-id=\"4223\"></div>', 'Green': '\\n<div class=\"bk-root\" id=\"52946200-a572-4ee1-92ec-29f8a4df972f\" data-root-id=\"4256\"></div>'}\r\n",
      "    </body>\r\n",
      "</html>"
     ]
    }
   ],
   "source": [
    "!cat html/plot.html"
   ]
  },
  {
   "cell_type": "code",
   "execution_count": null,
   "metadata": {},
   "outputs": [],
   "source": []
  }
 ],
 "metadata": {
  "hide_input": false,
  "kernelspec": {
   "display_name": "Python 3",
   "language": "python",
   "name": "python3"
  },
  "language_info": {
   "codemirror_mode": {
    "name": "ipython",
    "version": 3
   },
   "file_extension": ".py",
   "mimetype": "text/x-python",
   "name": "python",
   "nbconvert_exporter": "python",
   "pygments_lexer": "ipython3",
   "version": "3.7.5"
  }
 },
 "nbformat": 4,
 "nbformat_minor": 4
}
