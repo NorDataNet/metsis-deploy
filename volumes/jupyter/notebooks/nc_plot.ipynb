{
 "cells": [
  {
   "cell_type": "code",
   "execution_count": null,
   "metadata": {},
   "outputs": [],
   "source": [
    "import numpy as np\n",
    "import xarray as xr\n",
    "from bokeh.embed import json_item\n",
    "import pandas as pd\n",
    "# imports for plotting tool\n",
    "from bokeh.io import push_notebook, show, output_notebook\n",
    "from bokeh.layouts import row\n",
    "from bokeh.plotting import figure\n",
    "from bokeh.models import ColumnDataSource, Column\n",
    "from bokeh.models.tools import HoverTool\n",
    "# from bokeh.layouts import widgetbox\n",
    "from bokeh.models.widgets import Div\n",
    "from bokeh.models.widgets import Paragraph\n",
    "from bokeh.models.widgets import PreText\n",
    "# import to generate html tables\n",
    "from json2html import *\n",
    "# imports needed when debugging into a notebook\n",
    "from IPython.core.display import HTML, display_html"
   ]
  },
  {
   "cell_type": "code",
   "execution_count": null,
   "metadata": {},
   "outputs": [],
   "source": [
    "def get_plottable_variables(nc_url):\n",
    "    DS = xr.open_dataset(nc_url)\n",
    "    return {\"y_axis\":[i for i in DS if len(DS[i].shape) == 1]}\n",
    "\n",
    "def get_data(nc_url, nc_variable, resample=None):\n",
    "    DS = xr.open_dataset(nc_url)\n",
    "    df = DS.to_dataframe()\n",
    "    df.replace(9.96921e+36, np.NaN, inplace=True)\n",
    "    data = df[nc_variable]\n",
    "    if resample:\n",
    "        data = data.resample(resample).mean()\n",
    "    data=pd.DataFrame(data)\n",
    "    data.dataset_metadata = ''\n",
    "    data.dataset_metadata = DS.attrs\n",
    "    data.variable_metadata = ''\n",
    "    data.variable_metadata = DS[nc_variable].attrs\n",
    "    return data\n",
    "\n",
    "def create_plot(data):\n",
    "    data['tooltip'] = [x.strftime(\"%Y-%m-%d %H:%M:%S\") for x in data.index]\n",
    "    source = ColumnDataSource(data)\n",
    "    tools_to_show = \"box_zoom, pan,save, hover, reset, wheel_zoom\"\n",
    "    var_label = '@'+str(data.columns[0])\n",
    "    p = figure(toolbar_location=\"above\", \n",
    "               x_axis_type=\"datetime\", \n",
    "               tools=tools_to_show) # \n",
    "    tooltips = [('Time', '@tooltip'), \n",
    "                (str(data.variable_metadata['long_name']), var_label)\n",
    "               ]\n",
    "    hover = p.select(dict(type=HoverTool))\n",
    "    hover.formatters = {'tooltip': \"datetime\"} \n",
    "    hover.tooltips = tooltips\n",
    "    p.line(x='time', \n",
    "           y=data.columns[0], #data.variable_metadata['standard_name'],\n",
    "           source=source,\n",
    "           color='green',\n",
    "           legend_label=data.columns[0],\n",
    "          )\n",
    "    return p"
   ]
  },
  {
   "cell_type": "code",
   "execution_count": null,
   "metadata": {},
   "outputs": [],
   "source": [
    "from bokeh.io import push_notebook, show, output_notebook\n",
    "output_notebook()"
   ]
  },
  {
   "cell_type": "code",
   "execution_count": null,
   "metadata": {},
   "outputs": [],
   "source": [
    "resource_url = 'http://hyrax:8080/opendap/SN99938.nc'\n"
   ]
  },
  {
   "cell_type": "code",
   "execution_count": null,
   "metadata": {},
   "outputs": [],
   "source": [
    "variables = get_plottable_variables(resource_url)\n",
    "variables['y_axis']"
   ]
  },
  {
   "cell_type": "code",
   "execution_count": null,
   "metadata": {},
   "outputs": [],
   "source": [
    "data = get_data(resource_url, variables['y_axis'][2])\n",
    "plot = create_plot(data)"
   ]
  },
  {
   "cell_type": "code",
   "execution_count": null,
   "metadata": {},
   "outputs": [],
   "source": [
    "title = data.variable_metadata['long_name']\n",
    "summary = data.dataset_metadata['summary']\n",
    "dataset_metadata = json2html.convert(json = data.dataset_metadata)\n",
    "variable_metadata = json2html.convert(json = data.variable_metadata)"
   ]
  },
  {
   "cell_type": "code",
   "execution_count": null,
   "metadata": {},
   "outputs": [],
   "source": [
    "variables['y_axis'][2]\n"
   ]
  },
  {
   "cell_type": "code",
   "execution_count": null,
   "metadata": {},
   "outputs": [],
   "source": [
    "data.columns[0]\n"
   ]
  },
  {
   "cell_type": "code",
   "execution_count": null,
   "metadata": {},
   "outputs": [],
   "source": [
    "HTML(variable_metadata)\n"
   ]
  },
  {
   "cell_type": "code",
   "execution_count": null,
   "metadata": {},
   "outputs": [],
   "source": [
    "title_div = Div(text=\"\"\"<h1>\n",
    "                            <b>\n",
    "                                {title}\n",
    "                            </b>\n",
    "                        </h1>\"\"\".format(title=title))\n",
    "\n",
    "abstract_text = Div(text=\"\"\"<details>\n",
    "                                <summary>\n",
    "                                    Summary\n",
    "                                </summary>\n",
    "                                <p>\n",
    "                                    {summary}\n",
    "                                </p>\n",
    "                            </details>\"\"\".format(summary=summary),\n",
    "                    width=400, \n",
    "                    height=200)\n",
    "\n",
    "dataset_metadata_div = Div(text=\"\"\"<details>\n",
    "                                       <summary>\n",
    "                                           Dataset Metadata\n",
    "                                       </summary>\n",
    "                                       <p>\n",
    "                                           {dataset_metadata}\n",
    "                                       </p>\n",
    "                                    </details>\"\"\".format(dataset_metadata=dataset_metadata), \n",
    "                           width=300, \n",
    "                           height=100)\n",
    "\n",
    "variable_metadata_div = Div(text=\"\"\"<details>\n",
    "                                        <summary>\n",
    "                                            Variable Metadata\n",
    "                                        </summary>\n",
    "                                        <p>\n",
    "                                            {variable_metadata}\n",
    "                                        </p>\n",
    "                                    </details>\"\"\".format(variable_metadata=variable_metadata), \n",
    "                            width=200, \n",
    "                            height=100)\n",
    "\n",
    "plot_caption = Paragraph(text=\"\"\"This text can be a figure caption.\"\"\", \n",
    "                         width=200, \n",
    "                         height=100)"
   ]
  },
  {
   "cell_type": "code",
   "execution_count": null,
   "metadata": {},
   "outputs": [],
   "source": [
    "show(Column(title_div, abstract_text, plot, plot_caption, variable_metadata_div, dataset_metadata_div))\n"
   ]
  },
  {
   "cell_type": "code",
   "execution_count": null,
   "metadata": {},
   "outputs": [],
   "source": []
  }
 ],
 "metadata": {
  "kernelspec": {
   "display_name": "Python 3",
   "language": "python",
   "name": "python3"
  },
  "language_info": {
   "codemirror_mode": {
    "name": "ipython",
    "version": 3
   },
   "file_extension": ".py",
   "mimetype": "text/x-python",
   "name": "python",
   "nbconvert_exporter": "python",
   "pygments_lexer": "ipython3",
   "version": "3.8.2"
  }
 },
 "nbformat": 4,
 "nbformat_minor": 4
}
